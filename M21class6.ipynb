{
  "nbformat": 4,
  "nbformat_minor": 0,
  "metadata": {
    "colab": {
      "provenance": []
    },
    "kernelspec": {
      "name": "python3",
      "display_name": "Python 3"
    },
    "language_info": {
      "name": "python"
    }
  },
  "cells": [
    {
      "cell_type": "markdown",
      "source": [
        "Overload"
      ],
      "metadata": {
        "id": "oxyQM-cutPzC"
      }
    },
    {
      "cell_type": "code",
      "source": [
        "class A:\n",
        "\tdef __init__(self, a):\n",
        "\t\tself.a = a\n",
        "\tdef __lt__(self, other):\n",
        "\t\tif(self.a<other.a):\n",
        "\t\t\treturn \"ob1 is less than ob2\"\n",
        "\t\telse:\n",
        "\t\t\treturn \"ob2 is less than ob1\"\n",
        "\tdef __eq__(self, other):\n",
        "\t\tif(self.a == other.a):\n",
        "\t\t\treturn \"Both are equal\"\n",
        "\t\telse:\n",
        "\t\t\treturn \"Not equal\"\n",
        "\n",
        "ob1 = A(2)\n",
        "ob2 = A(3)\n",
        "print(\"Passed Values :\", ob1.a, ob2.a)\n",
        "print(ob1 < ob2)\n",
        "\n",
        "ob3 = A(4)\n",
        "ob4 = A(4)\n",
        "print(\"Passed Values :\", ob3.a, ob4.a)\n",
        "print(ob3 == ob4)\n"
      ],
      "metadata": {
        "colab": {
          "base_uri": "https://localhost:8080/"
        },
        "id": "ggzCIDcDtXGH",
        "outputId": "82e00fe7-9ec5-4a02-a29a-2ab63a241bf6"
      },
      "execution_count": 25,
      "outputs": [
        {
          "output_type": "stream",
          "name": "stdout",
          "text": [
            "Passed Values : 2 3\n",
            "ob1 is less than ob2\n",
            "Passed Values : 4 4\n",
            "Both are equal\n"
          ]
        }
      ]
    },
    {
      "cell_type": "markdown",
      "source": [
        "Flash cards"
      ],
      "metadata": {
        "id": "HCLo1R8Mtf19"
      }
    },
    {
      "cell_type": "code",
      "source": [
        "class flashcard:\n",
        "\tdef __init__(self, word, meaning):\n",
        "\t\tself.word = word\n",
        "\t\tself.meaning = meaning\n",
        "\tdef __str__(self):\n",
        "\n",
        "\t\t#we will return a string\n",
        "\t\treturn self.word+' ( '+self.meaning+' )'\n",
        "\n",
        "flash = []\n",
        "print(\"welcome to flashcard application\")\n",
        "\n",
        "#the following loop will be repeated until\n",
        "#user stops to add the flashcards\n",
        "while(True):\n",
        "\tword = input(\"enter the name you want to add to flashcard : \")\n",
        "\tmeaning = input(\"enter the meaning of the word : \")\n",
        "\n",
        "\tflash.append(flashcard(word, meaning))\n",
        "\toption = int(input(\"enter 0 , if you want to add another flashcard otherwise enter 1 : \"))\n",
        "\n",
        "\tif(option):\n",
        "\t\tbreak\n",
        "\n",
        "# printing all the flashcards\n",
        "print(\"\\nYour flashcards\")\n",
        "for i in flash:\n",
        "\tprint(\">\", i)\n"
      ],
      "metadata": {
        "colab": {
          "base_uri": "https://localhost:8080/"
        },
        "id": "NVPsNJLItmNz",
        "outputId": "79cc2f5a-2a60-4ee1-baef-e6cfed1ba6a8"
      },
      "execution_count": 26,
      "outputs": [
        {
          "output_type": "stream",
          "name": "stdout",
          "text": [
            "welcome to flashcard application\n",
            "enter the name you want to add to flashcard : cody\n",
            "enter the meaning of the word : penguin\n",
            "enter 0 , if you want to add another flashcard otherwise enter 1 : 0\n",
            "enter the name you want to add to flashcard : egg\n",
            "enter the meaning of the word : food\n",
            "enter 0 , if you want to add another flashcard otherwise enter 1 : 1\n",
            "\n",
            "Your flashcards\n",
            "> cody ( penguin )\n",
            "> egg ( food )\n"
          ]
        }
      ]
    },
    {
      "cell_type": "markdown",
      "source": [
        "Fruit quiz"
      ],
      "metadata": {
        "id": "5lMVRssot5oL"
      }
    },
    {
      "cell_type": "code",
      "source": [
        "import random\n",
        "\n",
        "class FruitQuiz:\n",
        "\n",
        "\t# Create a constructor\n",
        "\tdef __init__(self):\n",
        "\n",
        "\t\t# Create a dictionary of fruits as keys and color as value\n",
        "\t\tself.fruits={'apple':'red',\n",
        "\t\t\t\t\t'orange':'orange',\n",
        "\t\t\t\t\t'watermelon':'green',\n",
        "\t\t\t\t\t'banana':'yellow'}\n",
        "\n",
        "\t# Function for the quiz, here a fruit will be chosen randomly\n",
        "\tdef quiz(self):\n",
        "\t\twhile (True):\n",
        "\n",
        "\t\t\tfruit, color = random.choice(list(self.fruits.items()))\n",
        "\n",
        "\t\t\tprint(\"What is the color of {}\".format(fruit))\n",
        "\t\t\tuser_answer = input()\n",
        "\n",
        "\t\t\tif(user_answer.lower() == color):\n",
        "\t\t\t\tprint(\"Correct answer\")\n",
        "\t\t\telse:\n",
        "\t\t\t\tprint(\"Wrong answer\")\n",
        "\n",
        "\t\t\toption = int(input(\"enter 0 , if you want to play again otherwise enter 1: \"))\n",
        "\t\t\tif (option):\n",
        "\t\t\t\tbreak\n",
        "\n",
        "print(\"welcome to fruit quiz \")\n",
        "fq = FruitQuiz()\n",
        "fq.quiz()\n"
      ],
      "metadata": {
        "colab": {
          "base_uri": "https://localhost:8080/"
        },
        "id": "fKR7a1Z8t65q",
        "outputId": "dffd71dc-9836-496e-fd3e-7868ae2120ea"
      },
      "execution_count": 27,
      "outputs": [
        {
          "name": "stdout",
          "output_type": "stream",
          "text": [
            "welcome to fruit quiz \n",
            "What is the color of apple\n",
            "red\n",
            "Correct answer\n",
            "enter 0 , if you want to play again otherwise enter 1: 1\n"
          ]
        }
      ]
    },
    {
      "cell_type": "markdown",
      "source": [
        "animal's age"
      ],
      "metadata": {
        "id": "6P9bWZx5uIGs"
      }
    },
    {
      "cell_type": "code",
      "source": [
        "class Animal:\n",
        "\n",
        "    def __init__(self, age):\n",
        "        self.__age = age\n",
        "\n",
        "    def setage(self, age):\n",
        "        self.__age = age\n",
        "\n",
        "    def getage(self):\n",
        "        return self.__age\n",
        "\n",
        "\n",
        "    def __add__(self, predict):\n",
        "        return Animal( self.__age + predict.__age )\n",
        "\n",
        "    def __gt__(self, predict):\n",
        "        return self.__age > predict.__age\n",
        "\n",
        "    def __lt__(self, predict):\n",
        "        return self.__age < predict.__age\n",
        "\n",
        "    def __str__(self):\n",
        "        return \"Combined age of the two animals \" + str(self.__age)\n",
        "\n",
        "c1 = Animal(5)\n",
        "print(c1.getage())\n",
        "\n",
        "c2 = Animal(6)\n",
        "print(c2.getage())\n",
        "\n",
        "c3 = c1 + c2\n",
        "print(c3.getage())\n",
        "\n",
        "print( c3 > c2)\n",
        "\n",
        "print( c1 < c2)\n",
        "\n",
        "print(c3)"
      ],
      "metadata": {
        "id": "ybAufzSwuJtk",
        "outputId": "b5936947-1c88-4f5d-c676-7690537a394c",
        "colab": {
          "base_uri": "https://localhost:8080/"
        }
      },
      "execution_count": 28,
      "outputs": [
        {
          "output_type": "stream",
          "name": "stdout",
          "text": [
            "5\n",
            "6\n",
            "11\n",
            "True\n",
            "True\n",
            "Combined age of the two animals 11\n"
          ]
        }
      ]
    }
  ]
}