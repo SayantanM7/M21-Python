{
  "nbformat": 4,
  "nbformat_minor": 0,
  "metadata": {
    "colab": {
      "provenance": []
    },
    "kernelspec": {
      "name": "python3",
      "display_name": "Python 3"
    },
    "language_info": {
      "name": "python"
    }
  },
  "cells": [
    {
      "cell_type": "markdown",
      "source": [
        "Private"
      ],
      "metadata": {
        "id": "KScl5en8quaP"
      }
    },
    {
      "cell_type": "code",
      "source": [
        "class myClass:\n",
        "\n",
        "\t# private variable\n",
        "\t__privateVar = 27;\n",
        "\n",
        "\t# private method\n",
        "\tdef __privMeth(self):\n",
        "\t\tprint(\"I'm inside class myClass\")\n",
        "\n",
        "\t# Function to print value of private variable\n",
        "\tdef hello(self):\n",
        "\t\tprint(\"Private Variable value: \",myClass.__privateVar)\n",
        "\n",
        "# Object creation and method call\n",
        "foo = myClass()\n",
        "foo.hello()\n",
        "foo.__privMeth"
      ],
      "metadata": {
        "colab": {
          "base_uri": "https://localhost:8080/",
          "height": 193
        },
        "id": "jPz4J1Yeqvuv",
        "outputId": "3c877985-a66f-4f37-a3e7-6df2b9ef9402"
      },
      "execution_count": 19,
      "outputs": [
        {
          "output_type": "stream",
          "name": "stdout",
          "text": [
            "Private Variable value:  27\n"
          ]
        },
        {
          "output_type": "error",
          "ename": "AttributeError",
          "evalue": "'myClass' object has no attribute '__privMeth'",
          "traceback": [
            "\u001b[0;31m---------------------------------------------------------------------------\u001b[0m",
            "\u001b[0;31mAttributeError\u001b[0m                            Traceback (most recent call last)",
            "\u001b[0;32m<ipython-input-19-57ac71226ad7>\u001b[0m in \u001b[0;36m<cell line: 17>\u001b[0;34m()\u001b[0m\n\u001b[1;32m     15\u001b[0m \u001b[0mfoo\u001b[0m \u001b[0;34m=\u001b[0m \u001b[0mmyClass\u001b[0m\u001b[0;34m(\u001b[0m\u001b[0;34m)\u001b[0m\u001b[0;34m\u001b[0m\u001b[0;34m\u001b[0m\u001b[0m\n\u001b[1;32m     16\u001b[0m \u001b[0mfoo\u001b[0m\u001b[0;34m.\u001b[0m\u001b[0mhello\u001b[0m\u001b[0;34m(\u001b[0m\u001b[0;34m)\u001b[0m\u001b[0;34m\u001b[0m\u001b[0;34m\u001b[0m\u001b[0m\n\u001b[0;32m---> 17\u001b[0;31m \u001b[0mfoo\u001b[0m\u001b[0;34m.\u001b[0m\u001b[0m__privMeth\u001b[0m\u001b[0;34m\u001b[0m\u001b[0;34m\u001b[0m\u001b[0m\n\u001b[0m",
            "\u001b[0;31mAttributeError\u001b[0m: 'myClass' object has no attribute '__privMeth'"
          ]
        }
      ]
    },
    {
      "cell_type": "markdown",
      "source": [
        "Computer Price"
      ],
      "metadata": {
        "id": "3YeP8OEorGpH"
      }
    },
    {
      "cell_type": "code",
      "source": [
        "class Computer:\n",
        "\n",
        "    def __init__(self):\n",
        "        self.__maxprice = 900\n",
        "\n",
        "    def sell(self):\n",
        "        print(\"Selling Price: {}\".format(self.__maxprice))\n",
        "\n",
        "    def setMaxPrice(self, price):\n",
        "        self.__maxprice = price\n",
        "\n",
        "c = Computer()\n",
        "c.sell()\n",
        "\n",
        "# change the price\n",
        "c.__maxprice = 1000\n",
        "c.sell()\n",
        "\n",
        "# using setter function\n",
        "c.setMaxPrice(1000)\n",
        "c.sell()"
      ],
      "metadata": {
        "colab": {
          "base_uri": "https://localhost:8080/"
        },
        "id": "NMPXa86TrIUo",
        "outputId": "82ad1c59-aa2b-4ea2-805d-6da100672b1f"
      },
      "execution_count": 20,
      "outputs": [
        {
          "output_type": "stream",
          "name": "stdout",
          "text": [
            "Selling Price: 900\n",
            "Selling Price: 900\n",
            "Selling Price: 1000\n"
          ]
        }
      ]
    },
    {
      "cell_type": "markdown",
      "source": [
        "Point function"
      ],
      "metadata": {
        "id": "PZt_p-Q3rcUt"
      }
    },
    {
      "cell_type": "code",
      "source": [
        "# Create class\n",
        "class Point:\n",
        "    def __init__(self, x=0, y=0):\n",
        "        self.x = x\n",
        "        self.y = y\n",
        "\n",
        "\t# Method to print points in coordinate format\n",
        "    def __str__(self):\n",
        "        return \"({0}, {1})\".format(self.x, self.y)\n",
        "\n",
        "# Create Object\n",
        "p1 = Point(2, 3)\n",
        "print(p1)"
      ],
      "metadata": {
        "id": "lHXpxfbbrd6F"
      },
      "execution_count": null,
      "outputs": []
    }
  ]
}