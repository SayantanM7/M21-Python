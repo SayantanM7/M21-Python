{
  "nbformat": 4,
  "nbformat_minor": 0,
  "metadata": {
    "colab": {
      "provenance": []
    },
    "kernelspec": {
      "name": "python3",
      "display_name": "Python 3"
    },
    "language_info": {
      "name": "python"
    }
  },
  "cells": [
    {
      "cell_type": "markdown",
      "source": [
        "Abstract"
      ],
      "metadata": {
        "id": "p-LAw5LNr74d"
      }
    },
    {
      "cell_type": "code",
      "source": [
        "# Import necessary Modules\n",
        "from abc import ABC, abstractmethod\n",
        "\n",
        "# Create base class\n",
        "class Absclass(ABC):\n",
        "\n",
        "\t# Function to print a value\n",
        "    def print(self,x):\n",
        "        print(\"Passed value: \", x)\n",
        "\n",
        "\t# Abstract Method\n",
        "    @abstractmethod\n",
        "    def task(self):\n",
        "        print(\"We are inside Absclass task\")\n",
        "\n",
        "# Create sub class\n",
        "class test_class(Absclass):\n",
        "    def task(self):\n",
        "        print(\"We are inside test_class task\")\n",
        "\n",
        "#object of test_class created\n",
        "test_obj = test_class()\n",
        "test_obj.task()\n",
        "test_obj.print(100)"
      ],
      "metadata": {
        "colab": {
          "base_uri": "https://localhost:8080/"
        },
        "id": "TKrHwO1fr9Wt",
        "outputId": "0f7554c2-2f8d-45c1-b106-d653a00d01a2"
      },
      "execution_count": 21,
      "outputs": [
        {
          "output_type": "stream",
          "name": "stdout",
          "text": [
            "We are inside test_class task\n",
            "Passed value:  100\n"
          ]
        }
      ]
    },
    {
      "cell_type": "markdown",
      "source": [
        "Class animal"
      ],
      "metadata": {
        "id": "TgDHPfxYsH5o"
      }
    },
    {
      "cell_type": "code",
      "source": [
        "# import necessary packages\n",
        "from abc import ABC, abstractmethod\n",
        "# create a base class\n",
        "class Animal(ABC):\n",
        "\n",
        "    # abstract method\n",
        "\t# should be implemented by all sub-classes\n",
        "\tdef move(self):\n",
        "\t\tpass\n",
        "\n",
        "# sub classes\n",
        "class Human(Animal):\n",
        "\n",
        "\tdef move(self):\n",
        "\t\tprint(\"I can walk and run\")\n",
        "\n",
        "class Snake(Animal):\n",
        "\n",
        "\tdef move(self):\n",
        "\t\tprint(\"I can crawl\")\n",
        "\n",
        "class Dog(Animal):\n",
        "\n",
        "\tdef move(self):\n",
        "\t\tprint(\"I can bark\")\n",
        "\n",
        "class Lion(Animal):\n",
        "\n",
        "\tdef move(self):\n",
        "\t\tprint(\"I can roar\")\n",
        "\n",
        "# Driver code\n",
        "R = Human()\n",
        "R.move()\n",
        "\n",
        "K = Snake()\n",
        "K.move()\n",
        "\n",
        "R = Dog()\n",
        "R.move()\n",
        "\n",
        "K = Lion()\n",
        "K.move()"
      ],
      "metadata": {
        "colab": {
          "base_uri": "https://localhost:8080/"
        },
        "id": "293ZjxrJsJGE",
        "outputId": "a71fc4c5-1a4c-4434-cb87-9ce142869db3"
      },
      "execution_count": 22,
      "outputs": [
        {
          "output_type": "stream",
          "name": "stdout",
          "text": [
            "I can walk and run\n",
            "I can crawl\n",
            "I can bark\n",
            "I can roar\n"
          ]
        }
      ]
    },
    {
      "cell_type": "markdown",
      "source": [
        "Countries"
      ],
      "metadata": {
        "id": "xGSrnkhVsPvm"
      }
    },
    {
      "cell_type": "code",
      "source": [
        "# Class 1\n",
        "class India():\n",
        "    def capital(self):\n",
        "        print(\"New Delhi is the capital of India.\")\n",
        "\n",
        "    def language(self):\n",
        "        print(\"Hindi is the most widely spoken language of India.\")\n",
        "\n",
        "    def type(self):\n",
        "        print(\"India is a developing country.\")\n",
        "\n",
        "# Class 2\n",
        "class USA():\n",
        "    def capital(self):\n",
        "        print(\"Washington, D.C. is the capital of USA.\")\n",
        "\n",
        "    def language(self):\n",
        "        print(\"English is the primary language of USA.\")\n",
        "\n",
        "    def type(self):\n",
        "        print(\"USA is a developed country.\")\n",
        "\n",
        "# Object Creation\n",
        "obj_ind = India()\n",
        "obj_usa = USA()\n",
        "\n",
        "# Common Interface\n",
        "for country in (obj_ind, obj_usa):\n",
        "    country.capital()\n",
        "    country.language()\n",
        "    country.type()"
      ],
      "metadata": {
        "colab": {
          "base_uri": "https://localhost:8080/"
        },
        "id": "mCwKWgFLsQ_M",
        "outputId": "f275a11e-9b5d-430d-ee04-b53b08c179cd"
      },
      "execution_count": 23,
      "outputs": [
        {
          "output_type": "stream",
          "name": "stdout",
          "text": [
            "New Delhi is the capital of India.\n",
            "Hindi is the most widely spoken language of India.\n",
            "India is a developing country.\n",
            "Washington, D.C. is the capital of USA.\n",
            "English is the primary language of USA.\n",
            "USA is a developed country.\n"
          ]
        }
      ]
    },
    {
      "cell_type": "markdown",
      "source": [
        "Cats and dogs"
      ],
      "metadata": {
        "id": "0HNEpCVhsYHA"
      }
    },
    {
      "cell_type": "code",
      "source": [
        "class Cat:\n",
        "    def __init__(self, name, age):\n",
        "        self.name = name\n",
        "        self.age = age\n",
        "\n",
        "    def info(self):\n",
        "        print(f\"I am a cat. My name is {self.name}. I am {self.age} years old.\")\n",
        "\n",
        "    def make_sound(self):\n",
        "        print(\"Meow\")\n",
        "\n",
        "\n",
        "class Dog:\n",
        "    def __init__(self, name, age):\n",
        "        self.name = name\n",
        "        self.age = age\n",
        "\n",
        "    def info(self):\n",
        "        print(f\"I am a dog. My name is {self.name}. I am {self.age} years old.\")\n",
        "\n",
        "    def make_sound(self):\n",
        "        print(\"Bark\")\n",
        "\n",
        "\n",
        "cat1 = Cat(\"Kitty\", 2.5)\n",
        "dog1 = Dog(\"Fluffy\", 4)\n",
        "\n",
        "for animal in (cat1, dog1):\n",
        "    animal.make_sound()\n",
        "    animal.info()\n",
        "    animal.make_sound()\n"
      ],
      "metadata": {
        "id": "X8q1nClksZdU",
        "outputId": "89ec6eb5-7b41-41ec-e597-2d2967e3e0cf",
        "colab": {
          "base_uri": "https://localhost:8080/"
        }
      },
      "execution_count": 24,
      "outputs": [
        {
          "output_type": "stream",
          "name": "stdout",
          "text": [
            "Meow\n",
            "I am a cat. My name is Kitty. I am 2.5 years old.\n",
            "Meow\n",
            "Bark\n",
            "I am a dog. My name is Fluffy. I am 4 years old.\n",
            "Bark\n"
          ]
        }
      ]
    }
  ]
}