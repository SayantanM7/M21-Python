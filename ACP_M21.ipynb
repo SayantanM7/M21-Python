{
  "nbformat": 4,
  "nbformat_minor": 0,
  "metadata": {
    "colab": {
      "provenance": []
    },
    "kernelspec": {
      "name": "python3",
      "display_name": "Python 3"
    },
    "language_info": {
      "name": "python"
    }
  },
  "cells": [
    {
      "cell_type": "markdown",
      "source": [
        "Class 1 - Dog breed"
      ],
      "metadata": {
        "id": "cE8cJjamuVSB"
      }
    },
    {
      "cell_type": "code",
      "source": [
        "# Class for Dog\n",
        "class Dog:\n",
        "\n",
        "\t# Class Variable\n",
        "\tanimal = 'dog'\n",
        "\n",
        "\t# The init method or constructor\n",
        "\tdef __init__(self, breed, color):\n",
        "\n",
        "\t\t# Instance Variable\n",
        "\t\tself.breed = breed\n",
        "\t\tself.color = color\n",
        "\n",
        "# Objects of Dog class\n",
        "Rodger = Dog(\"Pug\", \"brown\")\n",
        "Buzo = Dog(\"Bulldog\", \"black\")\n",
        "\n",
        "print('Rodger details:')\n",
        "print('Rodger is a', Rodger.animal)\n",
        "print('Breed: ', Rodger.breed)\n",
        "print('Color: ', Rodger.color)\n",
        "\n",
        "print('\\nBuzo details:')\n",
        "print('Buzo is a', Buzo.animal)\n",
        "print('Breed: ', Buzo.breed)\n",
        "print('Color: ', Buzo.color)\n",
        "\n",
        "# Class variables can be accessed using class\n",
        "# name also\n",
        "print(\"\\nAccessing class variable using class name\")\n",
        "print(Dog.animal)\n"
      ],
      "metadata": {
        "colab": {
          "base_uri": "https://localhost:8080/"
        },
        "id": "jmb9ur-1uXBj",
        "outputId": "8cd2fd7c-ecb5-4dc0-efb3-8c89ad9c8ab4"
      },
      "execution_count": 30,
      "outputs": [
        {
          "output_type": "stream",
          "name": "stdout",
          "text": [
            "Rodger details:\n",
            "Rodger is a dog\n",
            "Breed:  Pug\n",
            "Color:  brown\n",
            "\n",
            "Buzo details:\n",
            "Buzo is a dog\n",
            "Breed:  Bulldog\n",
            "Color:  black\n",
            "\n",
            "Accessing class variable using class name\n",
            "dog\n",
            "Rodger details:\n",
            "Rodger is a dog\n",
            "Breed:  Pug\n",
            "Color:  brown\n",
            "\n",
            "Buzo details:\n",
            "Buzo is a dog\n",
            "Breed:  Bulldog\n",
            "Color:  black\n",
            "\n",
            "Accessing class variable using class name\n",
            "dog\n"
          ]
        }
      ]
    },
    {
      "cell_type": "markdown",
      "source": [
        "Class 2- Area and perimeter of circle"
      ],
      "metadata": {
        "id": "l-5AGG8DunqN"
      }
    },
    {
      "cell_type": "code",
      "source": [
        "class Circle():\n",
        "    def __init__(self, r):\n",
        "        self.radius = r\n",
        "\n",
        "    def area(self):\n",
        "        return self.radius**2*3.14\n",
        "\n",
        "    def perimeter(self):\n",
        "        return 2*self.radius*3.14\n",
        "\n",
        "radius = int(input(\"Enter Radius : \"))\n",
        "NewCircle = Circle(radius)\n",
        "print(NewCircle.area())\n",
        "print(NewCircle.perimeter())"
      ],
      "metadata": {
        "colab": {
          "base_uri": "https://localhost:8080/"
        },
        "id": "67TIT922urML",
        "outputId": "7e14eb39-67eb-4385-9531-8a002be8f27b"
      },
      "execution_count": 31,
      "outputs": [
        {
          "output_type": "stream",
          "name": "stdout",
          "text": [
            "Enter Radius : 7\n",
            "153.86\n",
            "43.96\n"
          ]
        }
      ]
    },
    {
      "cell_type": "markdown",
      "source": [
        "Class 3- Bus fare"
      ],
      "metadata": {
        "id": "YlOXvIIeuxxF"
      }
    },
    {
      "cell_type": "code",
      "source": [
        "class Vehicle:\n",
        "    def __init__(self, name, mileage, capacity):\n",
        "        self.name = name\n",
        "        self.mileage = mileage\n",
        "        self.capacity = capacity\n",
        "\n",
        "    def fare(self):\n",
        "        return self.capacity * 100\n",
        "\n",
        "class Bus(Vehicle):\n",
        "    def fare(self):\n",
        "        amount = super().fare()\n",
        "        amount += amount * 10 / 100\n",
        "        return amount\n",
        "\n",
        "School_bus = Bus(\"School Volvo\", 12, 50)\n",
        "print(\"Total Bus fare is:\", School_bus.fare())"
      ],
      "metadata": {
        "colab": {
          "base_uri": "https://localhost:8080/"
        },
        "id": "7lAEP_Mmuy0R",
        "outputId": "ce4da682-298f-4078-967a-54a79d835817"
      },
      "execution_count": 32,
      "outputs": [
        {
          "output_type": "stream",
          "name": "stdout",
          "text": [
            "Total Bus fare is: 5500.0\n"
          ]
        }
      ]
    },
    {
      "cell_type": "markdown",
      "source": [
        "Class 4 - Class string reverse"
      ],
      "metadata": {
        "id": "EoyIBXxpu78K"
      }
    },
    {
      "cell_type": "code",
      "source": [
        "class class_reverse:\n",
        "\n",
        "\tdef __init__(self, word_s):\n",
        "\t\tself.s = word_s\n",
        "\n",
        "\tdef reverse_word(self):\n",
        "\t\treturn self.s[::-1]\n",
        "\n",
        "word = input(\"Enter the word to be reversed : \")\n",
        "rev_ob = class_reverse(word)\n",
        "result = rev_ob.reverse_word()\n",
        "print(\"Reversed String :\", result)"
      ],
      "metadata": {
        "colab": {
          "base_uri": "https://localhost:8080/"
        },
        "id": "n4IZcNvjvEVy",
        "outputId": "3106e346-d36b-496b-c3ec-3e2855d46b01"
      },
      "execution_count": 33,
      "outputs": [
        {
          "output_type": "stream",
          "name": "stdout",
          "text": [
            "Enter the word to be reversed : code\n",
            "Reversed String : edoc\n"
          ]
        }
      ]
    },
    {
      "cell_type": "markdown",
      "source": [
        "Class 5 - Polymorphism"
      ],
      "metadata": {
        "id": "TcVsNMFnvG6K"
      }
    },
    {
      "cell_type": "code",
      "source": [
        "class Ferrari:\n",
        "    def fuel_type(self):\n",
        "        print(\"Petrol\")\n",
        "\n",
        "    def max_speed(self):\n",
        "        print(\"Max speed 350\")\n",
        "\n",
        "class BMW:\n",
        "    def fuel_type(self):\n",
        "        print(\"Diesel\")\n",
        "\n",
        "    def max_speed(self):\n",
        "        print(\"Max speed is 240\")\n",
        "\n",
        "ferrari = Ferrari()\n",
        "bmw = BMW()\n",
        "\n",
        "# iterate objects of same type\n",
        "for car in (ferrari, bmw):\n",
        "    # call methods without checking class of object\n",
        "    car.fuel_type()\n",
        "    car.max_speed()"
      ],
      "metadata": {
        "colab": {
          "base_uri": "https://localhost:8080/"
        },
        "id": "0YFV-baMvLQu",
        "outputId": "973d47ec-5ca2-4081-be06-b6931617380e"
      },
      "execution_count": 34,
      "outputs": [
        {
          "output_type": "stream",
          "name": "stdout",
          "text": [
            "Petrol\n",
            "Max speed 350\n",
            "Diesel\n",
            "Max speed is 240\n"
          ]
        }
      ]
    },
    {
      "cell_type": "markdown",
      "source": [
        "class 6 - Integer to Roman numerical"
      ],
      "metadata": {
        "id": "vN5nfuoGvRlE"
      }
    },
    {
      "cell_type": "code",
      "source": [
        "class py_solution:\n",
        "    def int_to_Roman(self, num):\n",
        "        val = [\n",
        "            1000, 900, 500, 400,\n",
        "            100, 90, 50, 40,\n",
        "            10, 9, 5, 4,\n",
        "            1\n",
        "            ]\n",
        "        syb = [\n",
        "            \"M\", \"CM\", \"D\", \"CD\",\n",
        "            \"C\", \"XC\", \"L\", \"XL\",\n",
        "            \"X\", \"IX\", \"V\", \"IV\",\n",
        "            \"I\"\n",
        "            ]\n",
        "        roman_num = ''\n",
        "        i = 0\n",
        "        while  num > 0:\n",
        "            for _ in range(num // val[i]):\n",
        "                roman_num += syb[i]\n",
        "                num -= val[i]\n",
        "            i += 1\n",
        "        return roman_num\n",
        "\n",
        "\n",
        "print(py_solution().int_to_Roman(1))\n",
        "print(py_solution().int_to_Roman(35))"
      ],
      "metadata": {
        "colab": {
          "base_uri": "https://localhost:8080/"
        },
        "id": "0z4XNpw5vX0y",
        "outputId": "cc88a6dc-258b-4ffe-f2e1-340b96e339e4"
      },
      "execution_count": 35,
      "outputs": [
        {
          "output_type": "stream",
          "name": "stdout",
          "text": [
            "I\n",
            "XXXV\n"
          ]
        }
      ]
    }
  ]
}