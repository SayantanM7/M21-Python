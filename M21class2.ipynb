{
  "nbformat": 4,
  "nbformat_minor": 0,
  "metadata": {
    "colab": {
      "provenance": []
    },
    "kernelspec": {
      "name": "python3",
      "display_name": "Python 3"
    },
    "language_info": {
      "name": "python"
    }
  },
  "cells": [
    {
      "cell_type": "markdown",
      "source": [
        "String upper case"
      ],
      "metadata": {
        "id": "XJ5pKqwXoSIo"
      }
    },
    {
      "cell_type": "code",
      "source": [
        "# create class\n",
        "class IOString():\n",
        "\n",
        "\t# constructor to set default value\n",
        "    def __init__(self):\n",
        "        self.str1 = \"\"\n",
        "\n",
        "\t# function to get input from user\n",
        "    def get_String(self):\n",
        "        self.str1 = input(\"Enter String : \")\n",
        "\n",
        "\t# function to print the string in upper case\n",
        "    def print_String(self):\n",
        "        print(\"Result is :\", self.str1.upper())\n",
        "\n",
        "# Object creation\n",
        "str1 = IOString()\n",
        "\n",
        "# Call functions\n",
        "str1.get_String()\n",
        "str1.print_String()"
      ],
      "metadata": {
        "colab": {
          "base_uri": "https://localhost:8080/"
        },
        "id": "G5XShZa7oWSR",
        "outputId": "7f1f3b64-bc07-4df1-e691-4e791874c378"
      },
      "execution_count": 6,
      "outputs": [
        {
          "output_type": "stream",
          "name": "stdout",
          "text": [
            "Enter String : code\n",
            "Result is : CODE\n"
          ]
        }
      ]
    },
    {
      "cell_type": "markdown",
      "source": [
        "Employee in and out"
      ],
      "metadata": {
        "id": "uav6Gs5ioaoj"
      }
    },
    {
      "cell_type": "code",
      "source": [
        "# Create Class\n",
        "class Employee:\n",
        "\n",
        "    # Initializing\n",
        "    def __init__(self):\n",
        "        print('Employee created')\n",
        "\n",
        "    # Calling destructor\n",
        "    def __del__(self):\n",
        "        print(\"Destructor called\")\n",
        "\n",
        "def Create_obj():\n",
        "    print('Making Object...')\n",
        "    obj = Employee()\n",
        "    print('function end...')\n",
        "    return obj\n",
        "\n",
        "print('Calling Create_obj() function...')\n",
        "obj = Create_obj()\n",
        "print('Program End...')"
      ],
      "metadata": {
        "colab": {
          "base_uri": "https://localhost:8080/"
        },
        "id": "xT8N8he8of66",
        "outputId": "664d3ad2-c43f-4b05-c19c-ce406a12dbb1"
      },
      "execution_count": 7,
      "outputs": [
        {
          "output_type": "stream",
          "name": "stdout",
          "text": [
            "Calling Create_obj() function...\n",
            "Making Object...\n",
            "Employee created\n",
            "function end...\n",
            "Program End...\n"
          ]
        }
      ]
    },
    {
      "cell_type": "markdown",
      "source": [
        "Pair Elements"
      ],
      "metadata": {
        "id": "HL4MlQz2oiag"
      }
    },
    {
      "cell_type": "code",
      "source": [
        "# create a class\n",
        "class pair_elements:\n",
        "\n",
        "\tdef twoSum(self, nums, target):\n",
        "\t\t# create an empty dictionary\n",
        "\t\tlookup = {}\n",
        "\n",
        "\t\t# Iterate through the tuple\n",
        "\t\tfor i, num in enumerate(nums):\n",
        "\t\t\tif target - num in lookup:\n",
        "\t\t\t\treturn (lookup[target - num], i )\n",
        "\t\t\tlookup[num] = i\n",
        "\n",
        "# take input of dum from the user\n",
        "value = int(input(\"Enter sum for which you want to make this search : \"))\n",
        "print(\"index1=%d, index2=%d\" % pair_elements().twoSum((10,20,30,40,50,60,70),value))"
      ],
      "metadata": {
        "colab": {
          "base_uri": "https://localhost:8080/"
        },
        "id": "aa7kC_KfoomX",
        "outputId": "1b1ab17a-9479-4e10-e803-334d3a53ff64"
      },
      "execution_count": 10,
      "outputs": [
        {
          "output_type": "stream",
          "name": "stdout",
          "text": [
            "Enter sum for which you want to make this search : 70\n",
            "index1=2, index2=3\n"
          ]
        }
      ]
    },
    {
      "cell_type": "markdown",
      "source": [
        "**area of rectangle**"
      ],
      "metadata": {
        "id": "Gdhg-9empE43"
      }
    },
    {
      "cell_type": "code",
      "source": [
        "class Rectangle:\n",
        "    def __init__(self, length, width):\n",
        "        self.length = length\n",
        "        self.width = width\n",
        "\n",
        "    def area(self):\n",
        "        return self.length * self.width\n",
        "\n",
        "# Example usage:\n",
        "rectangle = Rectangle(5, 10)\n",
        "area = rectangle.area()\n",
        "print(f\"The area of the rectangle is: {area}\")"
      ],
      "metadata": {
        "colab": {
          "base_uri": "https://localhost:8080/"
        },
        "id": "cpjREJ3NpGzP",
        "outputId": "ddcb315a-085d-4644-8aa4-bd1ecc2917a3"
      },
      "execution_count": 13,
      "outputs": [
        {
          "output_type": "stream",
          "name": "stdout",
          "text": [
            "The area of the rectangle is: 50\n"
          ]
        }
      ]
    }
  ]
}