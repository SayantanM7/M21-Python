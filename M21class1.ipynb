{
  "nbformat": 4,
  "nbformat_minor": 0,
  "metadata": {
    "colab": {
      "provenance": []
    },
    "kernelspec": {
      "name": "python3",
      "display_name": "Python 3"
    },
    "language_info": {
      "name": "python"
    }
  },
  "cells": [
    {
      "cell_type": "markdown",
      "source": [
        "creating class"
      ],
      "metadata": {
        "id": "KgKLCrKKjDV7"
      }
    },
    {
      "cell_type": "code",
      "source": [
        "# create a class\n",
        "class student:\n",
        "\tgrade = 10\n",
        "\tprint(\"Hi I am a student of grade\", grade)\n",
        "\n",
        "# create an object\n",
        "ob = student()"
      ],
      "metadata": {
        "colab": {
          "base_uri": "https://localhost:8080/"
        },
        "id": "XPV7iW_WnxRg",
        "outputId": "c4831013-adf6-4544-bfae-f3bad88f1ee4"
      },
      "execution_count": 3,
      "outputs": [
        {
          "output_type": "stream",
          "name": "stdout",
          "text": [
            "Hi I am a student of grade 10\n"
          ]
        }
      ]
    },
    {
      "cell_type": "markdown",
      "source": [
        "class vehicle"
      ],
      "metadata": {
        "id": "5RciTzqcn1FY"
      }
    },
    {
      "cell_type": "code",
      "source": [
        "# create class\n",
        "class Vehicle:\n",
        "\n",
        "\t# create init method\n",
        "    def __init__(self, max_speed, mileage):\n",
        "\n",
        "\t\t# bind the arguments\n",
        "        self.max_speed = max_speed\n",
        "        self.mileage = mileage\n",
        "\n",
        "# Object creation\n",
        "modelX = Vehicle(240, 18)\n",
        "\n",
        "# access the variables inside init method\n",
        "print(\"Model Max Speed:\",modelX.max_speed)\n",
        "print(\"Model Mileage:\", modelX.mileage)"
      ],
      "metadata": {
        "colab": {
          "base_uri": "https://localhost:8080/"
        },
        "id": "yNAvrIvcn6kN",
        "outputId": "9767da00-f0f4-45ff-f95d-402b69f73292"
      },
      "execution_count": 4,
      "outputs": [
        {
          "output_type": "stream",
          "name": "stdout",
          "text": [
            "Model Max Speed: 240\n",
            "Model Mileage: 18\n"
          ]
        }
      ]
    },
    {
      "cell_type": "markdown",
      "source": [
        "Parrot"
      ],
      "metadata": {
        "id": "q7gvNi14oDsY"
      }
    },
    {
      "cell_type": "code",
      "source": [
        "# create class\n",
        "class Parrot:\n",
        "\n",
        "    # class attribute\n",
        "    species = \"bird\"\n",
        "\n",
        "    # instance attribute\n",
        "    def __init__(self, name, age):\n",
        "        self.name = name\n",
        "        self.age = age\n",
        "\n",
        "# instantiate the Parrot class\n",
        "blu = Parrot(\"Blu\", 10)\n",
        "woo = Parrot(\"Woo\", 15)\n",
        "\n",
        "# access the class attributes\n",
        "print(\"Blu is a {}\".format(blu.species))\n",
        "print(\"Woo is also a {}\".format(woo.species))\n",
        "\n",
        "# access the instance attributes\n",
        "print(\"{} is {} years old\".format( blu.name, blu.age))\n",
        "print(\"{} is {} years old\".format( woo.name, woo.age))"
      ],
      "metadata": {
        "colab": {
          "base_uri": "https://localhost:8080/"
        },
        "id": "9i8-fS7WoE3n",
        "outputId": "8b5284ba-e008-48c9-f08b-4e64a092b7bd"
      },
      "execution_count": 5,
      "outputs": [
        {
          "output_type": "stream",
          "name": "stdout",
          "text": [
            "Blu is a bird\n",
            "Woo is also a bird\n",
            "Blu is 10 years old\n",
            "Woo is 15 years old\n"
          ]
        }
      ]
    }
  ]
}