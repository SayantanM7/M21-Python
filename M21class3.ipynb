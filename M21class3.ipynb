{
  "nbformat": 4,
  "nbformat_minor": 0,
  "metadata": {
    "colab": {
      "provenance": []
    },
    "kernelspec": {
      "name": "python3",
      "display_name": "Python 3"
    },
    "language_info": {
      "name": "python"
    }
  },
  "cells": [
    {
      "cell_type": "markdown",
      "source": [
        "inheritance"
      ],
      "metadata": {
        "id": "BwPZfL-SpovZ"
      }
    },
    {
      "cell_type": "code",
      "source": [
        "class Vehicle:\n",
        "\n",
        "    def __init__(self, name, max_speed, mileage):\n",
        "        self.name = name\n",
        "        self.max_speed = max_speed\n",
        "        self.mileage = mileage\n",
        "\n",
        "class Bus(Vehicle):\n",
        "    pass\n",
        "\n",
        "School_bus = Bus(\"School Volvo\", 180, 12)\n",
        "print(\"Vehicle Name:\", School_bus.name, \"Speed:\", School_bus.max_speed, \"Mileage:\", School_bus.mileage)"
      ],
      "metadata": {
        "colab": {
          "base_uri": "https://localhost:8080/"
        },
        "id": "y1qu9cyUpsTc",
        "outputId": "50805775-c8d3-4097-a023-103ce142e8d8"
      },
      "execution_count": 14,
      "outputs": [
        {
          "output_type": "stream",
          "name": "stdout",
          "text": [
            "Vehicle Name: School Volvo Speed: 180 Mileage: 12\n"
          ]
        }
      ]
    },
    {
      "cell_type": "markdown",
      "source": [
        "inheritance- employee"
      ],
      "metadata": {
        "id": "31xOAtKtp04A"
      }
    },
    {
      "cell_type": "code",
      "source": [
        "# Python code to demonstrate how parent constructors\n",
        "# are called.\n",
        "\n",
        "# parent class\n",
        "class Person( object ):\n",
        "\n",
        "\t\t# __init__ is known as the constructor\n",
        "\t\tdef __init__(self, name, idnumber):\n",
        "\t\t\t\tself.name = name\n",
        "\t\t\t\tself.idnumber = idnumber\n",
        "\t\tdef display(self):\n",
        "\t\t\t\tprint(self.name)\n",
        "\t\t\t\tprint(self.idnumber)\n",
        "\n",
        "# child class\n",
        "class Employee( Person ):\n",
        "\t\tdef __init__(self, name, idnumber, salary, post):\n",
        "\t\t\t\tself.salary = salary\n",
        "\t\t\t\tself.post = post\n",
        "\n",
        "\t\t\t\t# invoking the __init__ of the parent class\n",
        "\t\t\t\tPerson.__init__(self, name, idnumber)\n",
        "\n",
        "\n",
        "# creation of an object variable or an instance\n",
        "a = Employee('Rahul', 886012, 200000, \"Intern\")\n",
        "\n",
        "# calling a function of the class Person using its instance\n",
        "a.display()\n"
      ],
      "metadata": {
        "colab": {
          "base_uri": "https://localhost:8080/"
        },
        "id": "UVe8QSRBp0O2",
        "outputId": "89aae5a5-fe63-4b97-9457-b1e744af6d76"
      },
      "execution_count": 15,
      "outputs": [
        {
          "output_type": "stream",
          "name": "stdout",
          "text": [
            "Rahul\n",
            "886012\n"
          ]
        }
      ]
    },
    {
      "cell_type": "markdown",
      "source": [
        "Super penguin"
      ],
      "metadata": {
        "id": "xlpqZWKFqLbo"
      }
    },
    {
      "cell_type": "code",
      "source": [
        "# parent class\n",
        "class Bird:\n",
        "\n",
        "    def __init__(self):\n",
        "        print(\"Bird is ready\")\n",
        "\n",
        "    def whoisThis(self):\n",
        "        print(\"Bird\")\n",
        "\n",
        "    def swim(self):\n",
        "        print(\"Swim faster\")\n",
        "\n",
        "# child class\n",
        "class Penguin(Bird):\n",
        "\n",
        "    def __init__(self):\n",
        "        # call super() function\n",
        "        super().__init__()\n",
        "        print(\"Penguin is ready\")\n",
        "\n",
        "    def whoisThis(self):\n",
        "        print(\"Penguin\")\n",
        "\n",
        "    def run(self):\n",
        "        print(\"Run faster\")\n",
        "\n",
        "peggy = Penguin()\n",
        "peggy.whoisThis()\n",
        "peggy.swim()\n",
        "peggy.run()"
      ],
      "metadata": {
        "colab": {
          "base_uri": "https://localhost:8080/"
        },
        "id": "PNlKTMKlqNF8",
        "outputId": "f805d60b-bc7c-4ee1-a3c7-04d608d91d17"
      },
      "execution_count": 16,
      "outputs": [
        {
          "output_type": "stream",
          "name": "stdout",
          "text": [
            "Bird is ready\n",
            "Penguin is ready\n",
            "Penguin\n",
            "Swim faster\n",
            "Run faster\n"
          ]
        }
      ]
    },
    {
      "cell_type": "markdown",
      "source": [
        "Sub-class"
      ],
      "metadata": {
        "id": "-_hq0JJGqP__"
      }
    },
    {
      "cell_type": "code",
      "source": [
        "class Vehicles:\n",
        "\n",
        "\t# Constructor\n",
        "\tdef __init__(vehicleType):\n",
        "\t\tprint('Vehicles is a ', vehicleType)\n",
        "\n",
        "# Defining Child class\n",
        "class Car(Vehicles):\n",
        "\n",
        "\t# Constructor\n",
        "\tdef __init__(self):\n",
        "\t\tVehicles.__init__('Car')\n",
        "\n",
        "# Driver's code\n",
        "print(issubclass(Car, Vehicles))\n",
        "print(issubclass(Car, list))\n",
        "print(issubclass(Car, Car))\n",
        "print(issubclass(Car, (list, Vehicles)))"
      ],
      "metadata": {
        "colab": {
          "base_uri": "https://localhost:8080/"
        },
        "id": "NmyLfoHVqWNq",
        "outputId": "b02c7610-87df-4350-e546-6e486934c47d"
      },
      "execution_count": 17,
      "outputs": [
        {
          "output_type": "stream",
          "name": "stdout",
          "text": [
            "True\n",
            "False\n",
            "True\n",
            "True\n"
          ]
        }
      ]
    }
  ]
}